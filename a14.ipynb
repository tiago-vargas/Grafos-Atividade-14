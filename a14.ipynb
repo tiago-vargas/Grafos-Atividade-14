{
 "cells": [
  {
   "cell_type": "markdown",
   "metadata": {},
   "source": [
    "## Tiago Vargas Pereira de Oliveira"
   ]
  },
  {
   "cell_type": "code",
   "execution_count": 22,
   "metadata": {},
   "outputs": [],
   "source": [
    "import numpy as np\n",
    "\n",
    "\n",
    "# Converte matriz de incidência em de adjacência\n",
    "def incidence_to_adjacency(incidence_matrix: np.ndarray) -> np.ndarray:\n",
    "\tadjacency_matrix = incidence_matrix @ incidence_matrix.T\n",
    "\tnp.fill_diagonal(adjacency_matrix, 0)\n",
    "\treturn adjacency_matrix\n"
   ]
  },
  {
   "cell_type": "markdown",
   "metadata": {},
   "source": [
    "# Q5\n",
    "\n",
    "**Detectar grafos eulerianos a partir da matriz de incidência (máximo de 6 vértices e 10 arestas).**"
   ]
  },
  {
   "cell_type": "code",
   "execution_count": 23,
   "metadata": {},
   "outputs": [],
   "source": [
    "from scipy.sparse.csgraph import connected_components\n",
    "\n",
    "\n",
    "def is_eulerian(incidence_matrix: list[list[int]]) -> bool:\n",
    "\tadjacency_matrix = incidence_to_adjacency(np.array(incidence_matrix))\n",
    "\n",
    "\t# Checando se todos os vértices de grau > 0 tão conectados\n",
    "\t# (senão não dá pra andar por todas as arestas)\n",
    "\t(num_components, _) = connected_components(adjacency_matrix)\n",
    "\tif num_components > 1:\n",
    "\t\t# É desconexo\n",
    "\t\treturn False\n",
    "\n",
    "\t# Checando se todos os vértices têm grau par\n",
    "\t# (senão não dá pra fazer um ciclo)\n",
    "\tdegrees = np.sum(adjacency_matrix, axis=1)\n",
    "\tfor degree in degrees:\n",
    "\t\tif degree % 2 != 0:\n",
    "\t\t\treturn False\n",
    "\n",
    "\treturn True\n"
   ]
  },
  {
   "cell_type": "markdown",
   "metadata": {},
   "source": [
    "$K_3$"
   ]
  },
  {
   "cell_type": "code",
   "execution_count": 24,
   "metadata": {},
   "outputs": [
    {
     "data": {
      "text/plain": [
       "True"
      ]
     },
     "execution_count": 24,
     "metadata": {},
     "output_type": "execute_result"
    }
   ],
   "source": [
    "m = [\n",
    "\t# a  b  c\n",
    "\t[ 0, 1, 1],  # A\n",
    "\t[ 1, 0, 1],  # B\n",
    "\t[ 1, 1, 0],  # C\n",
    "]\n",
    "\n",
    "is_eulerian(m)\n"
   ]
  },
  {
   "cell_type": "markdown",
   "metadata": {},
   "source": [
    "Grafo de Königsberg"
   ]
  },
  {
   "cell_type": "code",
   "execution_count": 25,
   "metadata": {},
   "outputs": [
    {
     "data": {
      "text/plain": [
       "False"
      ]
     },
     "execution_count": 25,
     "metadata": {},
     "output_type": "execute_result"
    }
   ],
   "source": [
    "m = [\n",
    "\t# a  b  c  d  e  f  g\n",
    "\t[ 1, 1, 1, 0, 0, 0, 0],  # A\n",
    "\t[ 1, 0, 0, 1, 1, 0, 0],  # B\n",
    "\t[ 0, 1, 1, 1, 0, 1, 1],  # C\n",
    "\t[ 0, 0, 0, 0, 1, 1, 1],  # D\n",
    "]\n",
    "\n",
    "is_eulerian(m)\n"
   ]
  },
  {
   "cell_type": "markdown",
   "metadata": {},
   "source": [
    "# Q6\n",
    "\n",
    "**Detectar grafos hamiltonianos a partir da matriz de incidência (máximo de 6 vértices e 10 arestas).**"
   ]
  },
  {
   "cell_type": "code",
   "execution_count": 26,
   "metadata": {},
   "outputs": [],
   "source": [
    "import itertools\n",
    "\n",
    "\n",
    "def is_hamiltonian(incidence_matrix: list[list[int]]) -> bool:\n",
    "\tadjacency_matrix = incidence_to_adjacency(np.array(incidence_matrix))\n",
    "\tnum_vertices = len(adjacency_matrix)\n",
    "\tvertices = list(range(num_vertices))\n",
    "\n",
    "\t# Testa todas a combinações de vértices\n",
    "\t# Primeiro, define uma ordem (permutação)\n",
    "\t# Um caminho existe se os vértices estiverem conectados com o próximo na lista\n",
    "\t# Ex.: [0, 4, 6, ..., 2]\n",
    "\t# 2 é vizinho de 0?\n",
    "\t# 0 é vizinho de 4?\n",
    "\t# 4 é vizinho de 6?\n",
    "\t# ...\n",
    "\tfor permutation in itertools.permutations(vertices):\n",
    "\t\tcycle = list(permutation)\n",
    "\t\t# Checa se cada vértice é adjacente ao próximo na lista\n",
    "\t\t# Quando i = 0, compara o primeiro com o último\n",
    "\t\tif all(adjacency_matrix[cycle[i-1], cycle[i]] == 1 for i in range(num_vertices)):\n",
    "\t\t\treturn True\n",
    "\n",
    "\treturn False\n"
   ]
  },
  {
   "attachments": {
    "220px-Hamiltonian.png": {
     "image/png": "[encoded data removed]"
    }
   },
   "cell_type": "markdown",
   "metadata": {},
   "source": [
    "![220px-Hamiltonian.png](attachment:220px-Hamiltonian.png)\n",
    "\n",
    "```\n",
    "o --- o\n",
    "|\\   /| \\\n",
    "|  o  |  o\n",
    "|/   \\| /\n",
    "o --- o\n",
    "```"
   ]
  },
  {
   "cell_type": "code",
   "execution_count": 27,
   "metadata": {},
   "outputs": [
    {
     "data": {
      "text/plain": [
       "True"
      ]
     },
     "execution_count": 27,
     "metadata": {},
     "output_type": "execute_result"
    }
   ],
   "source": [
    "m = [\n",
    "\t# a  b  c  d  e  f  g  h  i  j\n",
    "\t[ 1, 1, 0, 1, 0, 0, 0, 0, 0, 0],  # A\n",
    "\t[ 1, 0, 1, 0, 0, 0, 1, 0, 1, 0],  # B\n",
    "\t[ 0, 1, 1, 0, 1, 1, 0, 0, 0, 0],  # C\n",
    "\t[ 0, 0, 0, 0, 0, 0, 0, 0, 1, 1],  # D\n",
    "\t[ 0, 0, 0, 1, 1, 0, 0, 1, 0, 0],  # E\n",
    "\t[ 0, 0, 0, 0, 0, 1, 1, 1, 0, 1],  # F\n",
    "]\n",
    "\n",
    "is_hamiltonian(m)\n"
   ]
  },
  {
   "cell_type": "markdown",
   "metadata": {},
   "source": [
    "```\n",
    "o\n",
    "| \\\n",
    "|  o --- o\n",
    "| /\n",
    "o\n",
    "```"
   ]
  },
  {
   "cell_type": "code",
   "execution_count": 28,
   "metadata": {},
   "outputs": [
    {
     "data": {
      "text/plain": [
       "False"
      ]
     },
     "execution_count": 28,
     "metadata": {},
     "output_type": "execute_result"
    }
   ],
   "source": [
    "m = [\n",
    "\t# a  b  c  d\n",
    "\t[ 0, 1, 1, 1],  # A\n",
    "\t[ 1, 0, 1, 0],  # B\n",
    "\t[ 1, 1, 0, 0],  # C\n",
    "\t[ 0, 0, 0, 1],  # D\n",
    "]\n",
    "\n",
    "is_hamiltonian(m)\n"
   ]
  }
 ],
 "metadata": {
  "kernelspec": {
   "display_name": "Python 3",
   "language": "python",
   "name": "python3"
  },
  "language_info": {
   "codemirror_mode": {
    "name": "ipython",
    "version": 3
   },
   "file_extension": ".py",
   "mimetype": "text/x-python",
   "name": "python",
   "nbconvert_exporter": "python",
   "pygments_lexer": "ipython3",
   "version": "3.11.6"
  }
 },
 "nbformat": 4,
 "nbformat_minor": 2
}
